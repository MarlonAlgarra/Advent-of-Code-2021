{
 "cells": [
  {
   "cell_type": "code",
   "execution_count": 5,
   "id": "5da5e76f",
   "metadata": {},
   "outputs": [],
   "source": [
    "with open(\"daySix.txt\", \"r\") as f:\n",
    "    txt_list = [line.strip() for line in f]\n",
    "data = list(map(int,txt_list[0].split(',')))"
   ]
  },
  {
   "cell_type": "code",
   "execution_count": 2,
   "id": "1cfdb711",
   "metadata": {},
   "outputs": [
    {
     "name": "stdout",
     "output_type": "stream",
     "text": [
      "345793\n"
     ]
    }
   ],
   "source": [
    "for i in range(0,80):\n",
    "    for j in range(0,len(data)):\n",
    "        if data[j]==0:\n",
    "            data.append(8)\n",
    "            data[j]=6\n",
    "        else:\n",
    "            data[j]= data[j]-1\n",
    "print(len(data))"
   ]
  },
  {
   "cell_type": "code",
   "execution_count": 6,
   "id": "e690dab0",
   "metadata": {},
   "outputs": [
    {
     "data": {
      "text/plain": [
       "{'0': 0, '1': 69, '2': 46, '3': 66, '4': 61, '5': 58, '6': 0, '7': 0, '8': 0}"
      ]
     },
     "execution_count": 6,
     "metadata": {},
     "output_type": "execute_result"
    }
   ],
   "source": [
    "dictTimer = {}\n",
    "for i in range(0,9):\n",
    "    tempCount = data.count(i)\n",
    "    dictTimer[str(i)] = tempCount\n",
    "dictTimer"
   ]
  },
  {
   "cell_type": "code",
   "execution_count": 10,
   "id": "f6bc8635",
   "metadata": {},
   "outputs": [
    {
     "name": "stdout",
     "output_type": "stream",
     "text": [
      "0 0\n",
      "1 69\n",
      "2 46\n",
      "3 66\n",
      "4 61\n",
      "5 58\n",
      "6 0\n",
      "7 0\n",
      "8 0\n"
     ]
    }
   ],
   "source": [
    "for key, value in dictTimer.items():\n",
    "    print(key,value)"
   ]
  },
  {
   "cell_type": "code",
   "execution_count": 11,
   "id": "77439e23",
   "metadata": {},
   "outputs": [
    {
     "name": "stdout",
     "output_type": "stream",
     "text": [
      "0\n",
      "1\n",
      "2\n",
      "3\n",
      "4\n",
      "5\n",
      "6\n",
      "7\n",
      "8\n"
     ]
    }
   ],
   "source": [
    "for i in range(0,len(dictTimer)):\n",
    "    print(i)"
   ]
  },
  {
   "cell_type": "code",
   "execution_count": null,
   "id": "17ed208b",
   "metadata": {},
   "outputs": [],
   "source": [
    "\n"
   ]
  },
  {
   "cell_type": "code",
   "execution_count": null,
   "id": "0af78eae",
   "metadata": {},
   "outputs": [],
   "source": []
  },
  {
   "cell_type": "code",
   "execution_count": null,
   "id": "48dc0acc",
   "metadata": {},
   "outputs": [],
   "source": []
  }
 ],
 "metadata": {
  "kernelspec": {
   "display_name": "Python 3",
   "language": "python",
   "name": "python3"
  },
  "language_info": {
   "codemirror_mode": {
    "name": "ipython",
    "version": 3
   },
   "file_extension": ".py",
   "mimetype": "text/x-python",
   "name": "python",
   "nbconvert_exporter": "python",
   "pygments_lexer": "ipython3",
   "version": "3.8.8"
  }
 },
 "nbformat": 4,
 "nbformat_minor": 5
}
