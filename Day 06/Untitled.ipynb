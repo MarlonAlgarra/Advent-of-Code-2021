{
 "cells": [
  {
   "cell_type": "code",
   "execution_count": 40,
   "id": "5da5e76f",
   "metadata": {},
   "outputs": [],
   "source": [
    "with open(\"daySix.txt\", \"r\") as f:\n",
    "    txt_list = [line.strip() for line in f]\n",
    "data = list(map(int,txt_list[0].split(',')))"
   ]
  },
  {
   "cell_type": "code",
   "execution_count": 2,
   "id": "1cfdb711",
   "metadata": {},
   "outputs": [
    {
     "name": "stdout",
     "output_type": "stream",
     "text": [
      "345793\n"
     ]
    }
   ],
   "source": [
    "for i in range(0,80):\n",
    "    for j in range(0,len(data)):\n",
    "        if data[j]==0:\n",
    "            data.append(8)\n",
    "            data[j]=6\n",
    "        else:\n",
    "            data[j]= data[j]-1\n",
    "print(len(data))"
   ]
  },
  {
   "cell_type": "code",
   "execution_count": 41,
   "id": "e690dab0",
   "metadata": {},
   "outputs": [
    {
     "data": {
      "text/plain": [
       "{0: 0, 1: 69, 2: 46, 3: 66, 4: 61, 5: 58, 6: 0, 7: 0, 8: 0}"
      ]
     },
     "execution_count": 41,
     "metadata": {},
     "output_type": "execute_result"
    }
   ],
   "source": [
    "dictTimer = {}\n",
    "for i in range(0,9):\n",
    "    tempCount = data.count(i)\n",
    "    dictTimer[i] = tempCount\n",
    "dictTimer"
   ]
  },
  {
   "cell_type": "code",
   "execution_count": 36,
   "id": "f6bc8635",
   "metadata": {},
   "outputs": [
    {
     "name": "stdout",
     "output_type": "stream",
     "text": [
      "0 0\n",
      "1 69\n",
      "2 46\n",
      "3 66\n",
      "4 61\n",
      "5 58\n",
      "6 0\n",
      "7 0\n",
      "8 0\n"
     ]
    }
   ],
   "source": [
    "for key, value in dictTimer.items():\n",
    "    print(key,value)"
   ]
  },
  {
   "cell_type": "code",
   "execution_count": 82,
   "id": "77439e23",
   "metadata": {},
   "outputs": [
    {
     "name": "stdout",
     "output_type": "stream",
     "text": [
      "{0: 0, 1: 69, 2: 46, 3: 66, 4: 61, 5: 58, 6: 0, 7: 0, 8: 0}\n",
      "{0: 0, 1: 69, 2: 46, 3: 66, 4: 61, 5: 58, 6: 0, 7: 0, 8: 0}\n",
      "{0: 0, 1: 69, 2: 46, 3: 66, 4: 61, 5: 58, 6: 0, 7: 0, 8: 0}\n",
      "{0: 0, 1: 69, 2: 46, 3: 66, 4: 61, 5: 58, 6: 0, 7: 0, 8: 0}\n",
      "{0: 0, 1: 69, 2: 46, 3: 66, 4: 61, 5: 58, 6: 0, 7: 0, 8: 0}\n",
      "{0: 0, 1: 69, 2: 46, 3: 66, 4: 61, 5: 58, 6: 0, 7: 0, 8: 0}\n",
      "{0: 0, 1: 69, 2: 46, 3: 66, 4: 61, 5: 58, 6: 0, 7: 0, 8: 0}\n",
      "{0: 0, 1: 69, 2: 46, 3: 66, 4: 61, 5: 58, 6: 0, 7: 0, 8: 0}\n"
     ]
    },
    {
     "data": {
      "text/plain": [
       "{0: 0, 1: 69, 2: 46, 3: 66, 4: 61, 5: 58, 6: 0, 7: 0, 8: 0}"
      ]
     },
     "execution_count": 82,
     "metadata": {},
     "output_type": "execute_result"
    }
   ],
   "source": [
    "dictTimer = {}\n",
    "for i in range(0,9):\n",
    "    tempCount = data.count(i)\n",
    "    dictTimer[i] = tempCount\n",
    "dictTimer\n",
    "for i in range(len(dictTimer)-2,0-1,-1):\n",
    "    print(dictTimer)\n",
    "    if(i==0):\n",
    "        dictTimer[8]=dictTimer[0]\n",
    "        dictTimer[6]+=dictTimer[0]\n",
    "    else:\n",
    "        dictTimer[i]=dictTimer[i]\n",
    "dictTimer"
   ]
  },
  {
   "cell_type": "code",
   "execution_count": 100,
   "id": "17ed208b",
   "metadata": {},
   "outputs": [],
   "source": [
    "def PassDay(dictTimer):\n",
    "    tempValueZero = dictTimer[0]\n",
    "    for i in range(1,9):\n",
    "        dictTimer[i-1]=dictTimer[i]\n",
    "    dictTimer[8]=tempValueZero\n",
    "    dictTimer[6]=dictTimer[6] + tempValueZero\n",
    "    return dictTimer"
   ]
  },
  {
   "cell_type": "code",
   "execution_count": 102,
   "id": "0af78eae",
   "metadata": {},
   "outputs": [
    {
     "name": "stdout",
     "output_type": "stream",
     "text": [
      "345793\n"
     ]
    }
   ],
   "source": [
    "dictTimer = {}\n",
    "for i in range(0,9):\n",
    "    tempCount = data.count(i)\n",
    "    dictTimer[i] = tempCount\n",
    "\n",
    "for i in range(0,80):\n",
    "    dictTimer = PassDay(dictTimer)\n",
    "print(sum(dictTimer.values()))"
   ]
  },
  {
   "cell_type": "code",
   "execution_count": 104,
   "id": "59710954",
   "metadata": {},
   "outputs": [
    {
     "name": "stdout",
     "output_type": "stream",
     "text": [
      "1572643095893\n"
     ]
    }
   ],
   "source": [
    "dictTimer = {}\n",
    "for i in range(0,9):\n",
    "    tempCount = data.count(i)\n",
    "    dictTimer[i] = tempCount\n",
    "\n",
    "for i in range(0,256):\n",
    "    dictTimer = PassDay(dictTimer)\n",
    "print(sum(dictTimer.values()))"
   ]
  },
  {
   "cell_type": "markdown",
   "id": "5a2448d9",
   "metadata": {},
   "source": [
    "###### "
   ]
  }
 ],
 "metadata": {
  "kernelspec": {
   "display_name": "Python 3 (ipykernel)",
   "language": "python",
   "name": "python3"
  },
  "language_info": {
   "codemirror_mode": {
    "name": "ipython",
    "version": 3
   },
   "file_extension": ".py",
   "mimetype": "text/x-python",
   "name": "python",
   "nbconvert_exporter": "python",
   "pygments_lexer": "ipython3",
   "version": "3.9.7"
  }
 },
 "nbformat": 4,
 "nbformat_minor": 5
}
