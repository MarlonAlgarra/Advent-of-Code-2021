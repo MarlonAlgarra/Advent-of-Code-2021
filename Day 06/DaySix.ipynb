{
 "cells": [
  {
   "cell_type": "markdown",
   "id": "749b27de",
   "metadata": {},
   "source": [
    "# Advent of Code: Day Six"
   ]
  },
  {
   "cell_type": "markdown",
   "id": "143deaf4",
   "metadata": {},
   "source": [
    "### Part one:"
   ]
  },
  {
   "cell_type": "code",
   "execution_count": 1,
   "id": "5da5e76f",
   "metadata": {},
   "outputs": [],
   "source": [
    "with open(\"daySix.txt\", \"r\") as f:\n",
    "    txt_list = [line.strip() for line in f]\n",
    "data = list(map(int,txt_list[0].split(',')))"
   ]
  },
  {
   "cell_type": "code",
   "execution_count": 2,
   "id": "1cfdb711",
   "metadata": {},
   "outputs": [],
   "source": [
    "def PassDay(dictTimer):\n",
    "    tempValueZero = dictTimer[0]\n",
    "    for i in range(1,9):\n",
    "        dictTimer[i-1]=dictTimer[i]\n",
    "    dictTimer[8]=tempValueZero\n",
    "    dictTimer[6]=dictTimer[6] + tempValueZero\n",
    "    return dictTimer"
   ]
  },
  {
   "cell_type": "code",
   "execution_count": 3,
   "id": "e690dab0",
   "metadata": {},
   "outputs": [],
   "source": [
    "dictTimer = {}\n",
    "for i in range(0,9):\n",
    "    tempCount = data.count(i)\n",
    "    dictTimer[i] = tempCount"
   ]
  },
  {
   "cell_type": "code",
   "execution_count": 4,
   "id": "f6bc8635",
   "metadata": {},
   "outputs": [
    {
     "name": "stdout",
     "output_type": "stream",
     "text": [
      "345793\n"
     ]
    }
   ],
   "source": [
    "firstDict = dictTimer.copy()\n",
    "for i in range(0,80):\n",
    "    firstDict = PassDay(firstDict)\n",
    "print(sum(firstDict.values()))"
   ]
  },
  {
   "cell_type": "markdown",
   "id": "929c04df",
   "metadata": {},
   "source": [
    "### Part Two:"
   ]
  },
  {
   "cell_type": "code",
   "execution_count": 5,
   "id": "77439e23",
   "metadata": {},
   "outputs": [
    {
     "name": "stdout",
     "output_type": "stream",
     "text": [
      "1572643095893\n"
     ]
    }
   ],
   "source": [
    "secondDict = dictTimer.copy()\n",
    "for i in range(0,256):\n",
    "    secondDict = PassDay(secondDict)\n",
    "print(sum(secondDict.values()))"
   ]
  }
 ],
 "metadata": {
  "kernelspec": {
   "display_name": "Python 3",
   "language": "python",
   "name": "python3"
  },
  "language_info": {
   "codemirror_mode": {
    "name": "ipython",
    "version": 3
   },
   "file_extension": ".py",
   "mimetype": "text/x-python",
   "name": "python",
   "nbconvert_exporter": "python",
   "pygments_lexer": "ipython3",
   "version": "3.8.8"
  }
 },
 "nbformat": 4,
 "nbformat_minor": 5
}
