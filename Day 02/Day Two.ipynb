{
 "cells": [
  {
   "cell_type": "markdown",
   "id": "1643eb39",
   "metadata": {},
   "source": [
    "# Advent of Code: Day Two\n",
    "\n",
    "### Part one:"
   ]
  },
  {
   "cell_type": "code",
   "execution_count": 1,
   "id": "16ae15a2",
   "metadata": {},
   "outputs": [
    {
     "name": "stdout",
     "output_type": "stream",
     "text": [
      "2027977\n"
     ]
    }
   ],
   "source": [
    "with open(\"dayTwo.txt\", \"r\") as f:\n",
    "    txt_list = [line.strip() for line in f]\n",
    "    \n",
    "cleanData = []\n",
    "horizontal = 0\n",
    "depth = 0\n",
    "for i in txt_list:\n",
    "    temp=i.split()\n",
    "    temp[1] = int(temp[1])\n",
    "    if temp[0]=='up':\n",
    "        temp[1]=temp[1]*-1\n",
    "    cleanData.append(temp)\n",
    "    \n",
    "for i in cleanData:\n",
    "    if i[0] == 'forward':\n",
    "        horizontal = horizontal+i[1]\n",
    "    else:\n",
    "        depth = depth+i[1]\n",
    "print(horizontal*depth)"
   ]
  },
  {
   "cell_type": "markdown",
   "id": "2515d384",
   "metadata": {},
   "source": [
    "### Part two:"
   ]
  },
  {
   "cell_type": "code",
   "execution_count": 2,
   "id": "ced5b6e1",
   "metadata": {},
   "outputs": [
    {
     "name": "stdout",
     "output_type": "stream",
     "text": [
      "1903644897\n"
     ]
    }
   ],
   "source": [
    "horizontal = 0\n",
    "depth = 0\n",
    "aim = 0\n",
    "for i in cleanData:\n",
    "    if i[0] == 'forward':\n",
    "        horizontal = horizontal+i[1]\n",
    "        depth = depth + (i[1] * aim)\n",
    "    else:\n",
    "        aim = aim+i[1]\n",
    "print(horizontal*depth)"
   ]
  }
 ],
 "metadata": {
  "kernelspec": {
   "display_name": "Python 3",
   "language": "python",
   "name": "python3"
  },
  "language_info": {
   "codemirror_mode": {
    "name": "ipython",
    "version": 3
   },
   "file_extension": ".py",
   "mimetype": "text/x-python",
   "name": "python",
   "nbconvert_exporter": "python",
   "pygments_lexer": "ipython3",
   "version": "3.8.8"
  }
 },
 "nbformat": 4,
 "nbformat_minor": 5
}
