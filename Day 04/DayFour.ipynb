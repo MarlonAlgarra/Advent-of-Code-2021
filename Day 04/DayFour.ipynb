{
 "cells": [
  {
   "cell_type": "markdown",
   "id": "4e35ead4",
   "metadata": {},
   "source": [
    "# Advent of Code: Day Four."
   ]
  },
  {
   "cell_type": "markdown",
   "id": "15fb9657",
   "metadata": {},
   "source": [
    "### Part 1:"
   ]
  },
  {
   "cell_type": "code",
   "execution_count": 1,
   "id": "58bab1b5",
   "metadata": {},
   "outputs": [],
   "source": [
    "with open(\"dayFour.txt\", \"r\") as f:\n",
    "    txt_list = [line.strip() for line in f]\n",
    "txt_list = [i for i in txt_list]"
   ]
  },
  {
   "cell_type": "code",
   "execution_count": 2,
   "id": "d7acb4be",
   "metadata": {},
   "outputs": [],
   "source": [
    "def checkEvent(tempCarton, eventNumber):\n",
    "    temp = tempCarton[:]\n",
    "    for i in range(0,len(temp)):\n",
    "        for j in range(0,len(temp[i])):\n",
    "            if(temp[i][j]==eventNumber):\n",
    "                temp[i][j]=0\n",
    "def checkWinner(carton):\n",
    "    tempColumns = [[row[i] for row in carton] for i in range(5)]\n",
    "    for i in range(0,len(carton)):\n",
    "        if(sum(carton[i])==0):\n",
    "            return True\n",
    "        elif(sum(tempColumns[i])==0):\n",
    "            return True\n",
    "    return False\n",
    "def GetValue(carton,pos):\n",
    "    return pos*sum([sum(i) for i in carton])"
   ]
  },
  {
   "cell_type": "code",
   "execution_count": 3,
   "id": "48778840",
   "metadata": {},
   "outputs": [
    {
     "name": "stdout",
     "output_type": "stream",
     "text": [
      "58374\n"
     ]
    }
   ],
   "source": [
    "eventNumbers = list(map(int,txt_list[0].split(\",\"))) \n",
    "cartonesBingo = [list(map(int,line.split())) for line in txt_list[1:] if line.split() != []]\n",
    "cartonesBingo = [cartonesBingo[i:i+5] for i in range(0, len(cartonesBingo), 5)]\n",
    "cache = [];\n",
    "for j in cartonesBingo:\n",
    "    for i in range(0,len(eventNumbers)):\n",
    "        checkEvent(j,eventNumbers[i])\n",
    "        if (checkWinner(j)):\n",
    "            cache.append(i)\n",
    "            break\n",
    "print(GetValue(cartonesBingo[cache.index(min(cache))],eventNumbers[min(cache)]))"
   ]
  },
  {
   "cell_type": "markdown",
   "id": "cfc5a260",
   "metadata": {},
   "source": [
    "### Part 2"
   ]
  },
  {
   "cell_type": "code",
   "execution_count": 4,
   "id": "600d1924",
   "metadata": {},
   "outputs": [
    {
     "name": "stdout",
     "output_type": "stream",
     "text": [
      "11377\n"
     ]
    }
   ],
   "source": [
    "print(GetValue(cartonesBingo[cache.index(max(cache))],eventNumbers[max(cache)]))"
   ]
  }
 ],
 "metadata": {
  "kernelspec": {
   "display_name": "Python 3",
   "language": "python",
   "name": "python3"
  },
  "language_info": {
   "codemirror_mode": {
    "name": "ipython",
    "version": 3
   },
   "file_extension": ".py",
   "mimetype": "text/x-python",
   "name": "python",
   "nbconvert_exporter": "python",
   "pygments_lexer": "ipython3",
   "version": "3.8.8"
  }
 },
 "nbformat": 4,
 "nbformat_minor": 5
}
