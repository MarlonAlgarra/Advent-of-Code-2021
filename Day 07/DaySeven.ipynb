{
 "cells": [
  {
   "cell_type": "markdown",
   "id": "c131030d",
   "metadata": {},
   "source": [
    "# Advent of Code: Day Seven"
   ]
  },
  {
   "cell_type": "markdown",
   "id": "0fe237ca",
   "metadata": {},
   "source": [
    "### Part one:"
   ]
  },
  {
   "cell_type": "code",
   "execution_count": 1,
   "id": "28b9a38b",
   "metadata": {},
   "outputs": [],
   "source": [
    "with open(\"daySeven.txt\", \"r\") as f:\n",
    "    txt_list = [line.strip() for line in f]\n",
    "data = list(map(int,txt_list[0].split(',')))"
   ]
  },
  {
   "cell_type": "code",
   "execution_count": 2,
   "id": "853c3375",
   "metadata": {
    "scrolled": true
   },
   "outputs": [
    {
     "name": "stdout",
     "output_type": "stream",
     "text": [
      "331067\n"
     ]
    }
   ],
   "source": [
    "points = [i for i in range(min(data),max(data)+1)]\n",
    "cache = []\n",
    "for i in points:\n",
    "    tempCache = []\n",
    "    for j in data:\n",
    "        tempCache.append(abs(j-i))\n",
    "    cache.append(sum(tempCache))\n",
    "print(min(cache))"
   ]
  },
  {
   "cell_type": "markdown",
   "id": "719e2306",
   "metadata": {},
   "source": [
    "### Part two:"
   ]
  },
  {
   "cell_type": "code",
   "execution_count": 3,
   "id": "3332bdde",
   "metadata": {},
   "outputs": [
    {
     "name": "stdout",
     "output_type": "stream",
     "text": [
      "92881128\n"
     ]
    }
   ],
   "source": [
    "def getFuelValue(num):\n",
    "    return sum([i for i in range(1,num+1)])\n",
    "\n",
    "cache = []\n",
    "for i in points:\n",
    "    tempCache = []\n",
    "    for j in data:\n",
    "        tempCache.append(getFuelValue(abs(j-i)))\n",
    "    cache.append(sum(tempCache))\n",
    "print(min(cache))"
   ]
  }
 ],
 "metadata": {
  "kernelspec": {
   "display_name": "Python 3",
   "language": "python",
   "name": "python3"
  },
  "language_info": {
   "codemirror_mode": {
    "name": "ipython",
    "version": 3
   },
   "file_extension": ".py",
   "mimetype": "text/x-python",
   "name": "python",
   "nbconvert_exporter": "python",
   "pygments_lexer": "ipython3",
   "version": "3.8.8"
  }
 },
 "nbformat": 4,
 "nbformat_minor": 5
}
