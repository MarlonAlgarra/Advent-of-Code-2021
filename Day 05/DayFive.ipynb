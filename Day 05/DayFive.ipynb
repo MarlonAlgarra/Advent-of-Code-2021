{
 "cells": [
  {
   "cell_type": "markdown",
   "id": "bd70ef15",
   "metadata": {},
   "source": [
    "# Advent of Code: Day Five."
   ]
  },
  {
   "cell_type": "markdown",
   "id": "d894b31e",
   "metadata": {},
   "source": [
    "### Part 1:"
   ]
  },
  {
   "cell_type": "code",
   "execution_count": 1,
   "id": "2cbf0325",
   "metadata": {},
   "outputs": [],
   "source": [
    "with open(\"dayFive.txt\", \"r\") as f:\n",
    "    txt_list = [line.strip() for line in f]"
   ]
  },
  {
   "cell_type": "code",
   "execution_count": 2,
   "id": "f405c194",
   "metadata": {},
   "outputs": [],
   "source": [
    "data = [i.split(\" -> \") for i in txt_list]\n",
    "data = [[list(map(int,i.split(','))) for i in coord] for coord in data]"
   ]
  },
  {
   "cell_type": "code",
   "execution_count": 3,
   "id": "e6e4389f",
   "metadata": {},
   "outputs": [],
   "source": [
    "sign = lambda a: (a>0) - (a<0)\n",
    "def GetDictionary(pointList,traveledPoints):\n",
    "    for i in pointList:\n",
    "        tempKey = str(i)\n",
    "        if tempKey in traveledPoints:\n",
    "            traveledPoints[tempKey] += 1\n",
    "        else:\n",
    "            traveledPoints[tempKey] = 1\n",
    "    return traveledPoints\n",
    "\n",
    "def getCount(pointDict):\n",
    "    count = 0\n",
    "    for key, value in pointDict.items():\n",
    "        if value>1:\n",
    "            count +=1\n",
    "    return count"
   ]
  },
  {
   "cell_type": "code",
   "execution_count": 4,
   "id": "58a5ae6f",
   "metadata": {},
   "outputs": [
    {
     "name": "stdout",
     "output_type": "stream",
     "text": [
      "6267\n"
     ]
    }
   ],
   "source": [
    "TotalPoints = {}\n",
    "NormalPoints=[]\n",
    "DiagonalPoints = []\n",
    "for points in data:\n",
    "    cord1 = points[0]; cord2 = points[1]\n",
    "    if cord1[0] == cord2[0]:\n",
    "        tempSign = sign(cord1[1]-cord2[1])*-1\n",
    "        NormalPoints.extend([[cord1[0],i] for i in range(cord1[1],cord2[1]+tempSign,tempSign)])\n",
    "    elif cord1[1] == cord2[1]:\n",
    "        tempSign = sign(cord1[0]-cord2[0])*-1\n",
    "        NormalPoints.extend([[i,cord1[1]] for i in range(cord1[0],cord2[0]+tempSign,tempSign)])\n",
    "    else:\n",
    "        signx = 1 if cord1[0]<cord2[0] else -1\n",
    "        signy = 1 if cord1[1]<cord2[1] else -1\n",
    "        xTemp = [i for i in range(cord1[0],cord2[0]+signx,signx)]\n",
    "        yTemp = [i for i in range(cord1[1],cord2[1]+signy,signy)]\n",
    "        DiagonalPoints.extend([list(i) for i in zip(xTemp,yTemp)])\n",
    "\n",
    "        \n",
    "TotalPoints = GetDictionary(NormalPoints,TotalPoints)\n",
    "print(getCount(TotalPoints))"
   ]
  },
  {
   "cell_type": "markdown",
   "id": "089aab66",
   "metadata": {},
   "source": [
    "### Part 2:"
   ]
  },
  {
   "cell_type": "code",
   "execution_count": 5,
   "id": "23df611d",
   "metadata": {},
   "outputs": [
    {
     "name": "stdout",
     "output_type": "stream",
     "text": [
      "20196\n"
     ]
    }
   ],
   "source": [
    "TotalPoints = GetDictionary(DiagonalPoints,TotalPoints)\n",
    "print(getCount(TotalPoints))"
   ]
  }
 ],
 "metadata": {
  "kernelspec": {
   "display_name": "Python 3",
   "language": "python",
   "name": "python3"
  },
  "language_info": {
   "codemirror_mode": {
    "name": "ipython",
    "version": 3
   },
   "file_extension": ".py",
   "mimetype": "text/x-python",
   "name": "python",
   "nbconvert_exporter": "python",
   "pygments_lexer": "ipython3",
   "version": "3.8.8"
  }
 },
 "nbformat": 4,
 "nbformat_minor": 5
}
