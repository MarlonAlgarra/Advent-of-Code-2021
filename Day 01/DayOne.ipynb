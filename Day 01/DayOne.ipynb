{
 "cells": [
  {
   "cell_type": "markdown",
   "id": "2ead9259",
   "metadata": {},
   "source": [
    "# Advent of Code: Day one.\n",
    "\n",
    "## Part one:"
   ]
  },
  {
   "cell_type": "code",
   "execution_count": 1,
   "id": "08b4260e",
   "metadata": {},
   "outputs": [
    {
     "name": "stdout",
     "output_type": "stream",
     "text": [
      "1711\n"
     ]
    }
   ],
   "source": [
    "with open(\"dayOne.txt\", \"r\") as f:\n",
    "    txt_list = [int(line.strip()) for line in f]\n",
    "def countIncreased(txt_list):    \n",
    "    increased = 0\n",
    "    decreased = 0\n",
    "    for i in range(0,len(txt_list)-1):\n",
    "        tempActual = txt_list[i]\n",
    "        tempNext = txt_list[i+1]\n",
    "        if tempActual < tempNext:\n",
    "            increased += 1;\n",
    "        else:\n",
    "            decreased += 1;\n",
    "    print(increased)\n",
    "countIncreased(txt_list)"
   ]
  },
  {
   "cell_type": "markdown",
   "id": "54f61ccb",
   "metadata": {},
   "source": [
    "## Part two:"
   ]
  },
  {
   "cell_type": "code",
   "execution_count": 2,
   "id": "70728a82",
   "metadata": {},
   "outputs": [
    {
     "name": "stdout",
     "output_type": "stream",
     "text": [
      "1743\n"
     ]
    }
   ],
   "source": [
    "sumList = []\n",
    "for i in range(0,len(txt_list)-2):\n",
    "    temp = txt_list[i:i+3]\n",
    "    sumList.append(sum(temp))\n",
    "countIncreased(sumList)"
   ]
  }
 ],
 "metadata": {
  "kernelspec": {
   "display_name": "Python 3",
   "language": "python",
   "name": "python3"
  },
  "language_info": {
   "codemirror_mode": {
    "name": "ipython",
    "version": 3
   },
   "file_extension": ".py",
   "mimetype": "text/x-python",
   "name": "python",
   "nbconvert_exporter": "python",
   "pygments_lexer": "ipython3",
   "version": "3.8.8"
  }
 },
 "nbformat": 4,
 "nbformat_minor": 5
}
