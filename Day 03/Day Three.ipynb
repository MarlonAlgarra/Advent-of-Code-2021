{
 "cells": [
  {
   "cell_type": "markdown",
   "id": "01f06837",
   "metadata": {},
   "source": [
    "# Advent of Code: Day Three\n",
    "\n",
    "### Part one"
   ]
  },
  {
   "cell_type": "code",
   "execution_count": 1,
   "id": "7befa515",
   "metadata": {},
   "outputs": [
    {
     "name": "stdout",
     "output_type": "stream",
     "text": [
      "693486\n"
     ]
    }
   ],
   "source": [
    "with open(\"dayThree.txt\", \"r\") as f:\n",
    "    txt_list = [line.strip() for line in f]\n",
    "    \n",
    "gammaRate = ''; epsilonRate = '';\n",
    "\n",
    "for i in range(0,len(txt_list[0])):\n",
    "    temp = [j[i] for j in txt_list]\n",
    "    gammaRate = gammaRate + str(max(set(temp), key = temp.count))\n",
    "    epsilonRate = epsilonRate + str(min(set(temp), key = temp.count))\n",
    "    \n",
    "print(int(gammaRate, 2)*int(epsilonRate, 2))"
   ]
  },
  {
   "cell_type": "markdown",
   "id": "0bedf43e",
   "metadata": {},
   "source": [
    "### Part two"
   ]
  },
  {
   "cell_type": "code",
   "execution_count": 2,
   "id": "1f5fbcdd",
   "metadata": {},
   "outputs": [
    {
     "name": "stdout",
     "output_type": "stream",
     "text": [
      "3379326\n"
     ]
    }
   ],
   "source": [
    "def checkOxygen(tempList):\n",
    "    if(sum(tempList) > len(tempList)/2):\n",
    "        return '1'\n",
    "    elif (sum(tempList) < len(tempList)/2):\n",
    "        return '0'\n",
    "    else:\n",
    "        return '1'\n",
    "    \n",
    "def checkCO2(tempList):\n",
    "    if(sum(tempList) > len(tempList)/2):\n",
    "        return '0'\n",
    "    elif (sum(tempList) < len(tempList)/2):\n",
    "        return '1'\n",
    "    else:\n",
    "        return '0'\n",
    "                \n",
    "def getLastElement(txt_list,checkFunction):\n",
    "    tempList = txt_list\n",
    "    for i in range(0,len(txt_list[0])):\n",
    "        temp = [int(j[i]) for j in tempList]\n",
    "        tempMask = checkFunction(temp)\n",
    "        tempList = [j for j in tempList if j[i]==tempMask]\n",
    "        if(len(tempList)==1):\n",
    "            return(int(str(' '.join([str(elem) for elem in tempList])), 2)) \n",
    "            \n",
    "print(getLastElement(txt_list,checkOxygen)*getLastElement(txt_list,checkCO2))"
   ]
  }
 ],
 "metadata": {
  "kernelspec": {
   "display_name": "Python 3",
   "language": "python",
   "name": "python3"
  },
  "language_info": {
   "codemirror_mode": {
    "name": "ipython",
    "version": 3
   },
   "file_extension": ".py",
   "mimetype": "text/x-python",
   "name": "python",
   "nbconvert_exporter": "python",
   "pygments_lexer": "ipython3",
   "version": "3.8.8"
  }
 },
 "nbformat": 4,
 "nbformat_minor": 5
}
